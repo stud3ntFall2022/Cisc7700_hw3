{
 "cells": [
  {
   "cell_type": "markdown",
   "id": "69ad0e3c-bc51-46b9-96c4-a75bc4d844ed",
   "metadata": {
    "tags": []
   },
   "source": [
    "## Table of Contents\n",
    "\n",
    "* [Homework# 3](#Homework#3)\n",
    "    * [Load model data](#Data_model_load)\n",
    "    * [Calculate data model](#Calculate_data_model)\n",
    "    * [Calculate model TP TN FP FN](#Calculate_TP_TN_FP_FN)\n",
    "    * [Calculate model accuracy](#Model_Accuracy)\n",
    "    * [Calculate model precision](#Model_Precission)\n",
    "    * [Confusion Matrix](#Confusion_Matrix)\n",
    "\n",
    "* Author: Gerti Kulla\n",
    "* Class: Brooklyn College/Cisc7700X \n",
    "* Semester: Fall 2024"
   ]
  },
  {
   "cell_type": "markdown",
   "id": "513c0165-4eb5-4a52-85ee-a8eca5810772",
   "metadata": {
    "tags": []
   },
   "source": [
    "# Homework#3"
   ]
  },
  {
   "cell_type": "markdown",
   "id": "2930f476-f67b-47f0-a20f-7b866109921a",
   "metadata": {},
   "source": [
    "CISC 7700X HW# 3: We have a labeled training data set: hw3.data1.csv.gz.\n",
    "Thinking of a linear model, we come up with:\n",
    "\n",
    "y = 24*column1 + -15*column2 + -38*column3 + -7*column4 + -41*column5 + 35*column6 + 0*column7 + -2*column8 + 19*column9 + 33*column10 + -3*column11 + 7*column12 + 3*column13 + -47*column14 + 26*column15 + 10*column16 + 40*column17 + -1*column18 + 3*column19 + 0*column20 + -6\n",
    "\n",
    "if y is > 0 then 1 othewise -1.\n",
    "\n",
    "What is the accuracy? Calculate the confusion matrix for this model. If cost of a false negative is $1000, and cost of a false positive is $100, (and $0 for an accurate answer), what is the expected economic gain?\n",
    "\n",
    "How can we tweak the model to increase economic gain? Come up with a model that maximizes economic gain (approximations are OK; try guestimating a few possibilities in a spreadsheet, etc.).\n",
    "\n",
    "Email the numbers and the steps you used to calculate things (you can do most of this homework in a spreadsheet [Excel?], but I highly encourage you to write code---learn Python if not sure where to start)."
   ]
  },
  {
   "cell_type": "markdown",
   "id": "a3bcb767-ef39-42ed-923c-7b30c7c7dfbe",
   "metadata": {},
   "source": [
    "## Data_model_load"
   ]
  },
  {
   "cell_type": "code",
   "execution_count": 23,
   "id": "06086ee0-9db0-4f5a-acae-2e505f8600b5",
   "metadata": {
    "tags": []
   },
   "outputs": [
    {
     "name": "stdout",
     "output_type": "stream",
     "text": [
      "Requirement already satisfied: seaborn in /home/studio-lab-user/.conda/envs/default/lib/python3.9/site-packages (0.13.2)\n",
      "Requirement already satisfied: scipy in /home/studio-lab-user/.conda/envs/default/lib/python3.9/site-packages (1.13.1)\n",
      "Requirement already satisfied: statsmodels in /home/studio-lab-user/.conda/envs/default/lib/python3.9/site-packages (0.14.4)\n",
      "Requirement already satisfied: numpy!=1.24.0,>=1.20 in /home/studio-lab-user/.conda/envs/default/lib/python3.9/site-packages (from seaborn) (2.0.2)\n",
      "Requirement already satisfied: pandas>=1.2 in /home/studio-lab-user/.conda/envs/default/lib/python3.9/site-packages (from seaborn) (2.2.3)\n",
      "Requirement already satisfied: matplotlib!=3.6.1,>=3.4 in /home/studio-lab-user/.conda/envs/default/lib/python3.9/site-packages (from seaborn) (3.9.2)\n",
      "Requirement already satisfied: patsy>=0.5.6 in /home/studio-lab-user/.conda/envs/default/lib/python3.9/site-packages (from statsmodels) (0.5.6)\n",
      "Requirement already satisfied: packaging>=21.3 in /home/studio-lab-user/.conda/envs/default/lib/python3.9/site-packages (from statsmodels) (24.0)\n",
      "Requirement already satisfied: contourpy>=1.0.1 in /home/studio-lab-user/.conda/envs/default/lib/python3.9/site-packages (from matplotlib!=3.6.1,>=3.4->seaborn) (1.3.0)\n",
      "Requirement already satisfied: cycler>=0.10 in /home/studio-lab-user/.conda/envs/default/lib/python3.9/site-packages (from matplotlib!=3.6.1,>=3.4->seaborn) (0.12.1)\n",
      "Requirement already satisfied: fonttools>=4.22.0 in /home/studio-lab-user/.conda/envs/default/lib/python3.9/site-packages (from matplotlib!=3.6.1,>=3.4->seaborn) (4.53.1)\n",
      "Requirement already satisfied: kiwisolver>=1.3.1 in /home/studio-lab-user/.conda/envs/default/lib/python3.9/site-packages (from matplotlib!=3.6.1,>=3.4->seaborn) (1.4.7)\n",
      "Requirement already satisfied: pillow>=8 in /home/studio-lab-user/.conda/envs/default/lib/python3.9/site-packages (from matplotlib!=3.6.1,>=3.4->seaborn) (10.4.0)\n",
      "Requirement already satisfied: pyparsing>=2.3.1 in /home/studio-lab-user/.conda/envs/default/lib/python3.9/site-packages (from matplotlib!=3.6.1,>=3.4->seaborn) (3.1.4)\n",
      "Requirement already satisfied: python-dateutil>=2.7 in /home/studio-lab-user/.conda/envs/default/lib/python3.9/site-packages (from matplotlib!=3.6.1,>=3.4->seaborn) (2.9.0)\n",
      "Requirement already satisfied: importlib-resources>=3.2.0 in /home/studio-lab-user/.conda/envs/default/lib/python3.9/site-packages (from matplotlib!=3.6.1,>=3.4->seaborn) (6.4.0)\n",
      "Requirement already satisfied: pytz>=2020.1 in /home/studio-lab-user/.conda/envs/default/lib/python3.9/site-packages (from pandas>=1.2->seaborn) (2024.1)\n",
      "Requirement already satisfied: tzdata>=2022.7 in /home/studio-lab-user/.conda/envs/default/lib/python3.9/site-packages (from pandas>=1.2->seaborn) (2024.1)\n",
      "Requirement already satisfied: six in /home/studio-lab-user/.conda/envs/default/lib/python3.9/site-packages (from patsy>=0.5.6->statsmodels) (1.16.0)\n",
      "Requirement already satisfied: zipp>=3.1.0 in /home/studio-lab-user/.conda/envs/default/lib/python3.9/site-packages (from importlib-resources>=3.2.0->matplotlib!=3.6.1,>=3.4->seaborn) (3.17.0)\n",
      "Requirement already satisfied: scikit-learn in /home/studio-lab-user/.conda/envs/default/lib/python3.9/site-packages (1.5.2)\n",
      "Requirement already satisfied: numpy>=1.19.5 in /home/studio-lab-user/.conda/envs/default/lib/python3.9/site-packages (from scikit-learn) (2.0.2)\n",
      "Requirement already satisfied: scipy>=1.6.0 in /home/studio-lab-user/.conda/envs/default/lib/python3.9/site-packages (from scikit-learn) (1.13.1)\n",
      "Requirement already satisfied: joblib>=1.2.0 in /home/studio-lab-user/.conda/envs/default/lib/python3.9/site-packages (from scikit-learn) (1.4.2)\n",
      "Requirement already satisfied: threadpoolctl>=3.1.0 in /home/studio-lab-user/.conda/envs/default/lib/python3.9/site-packages (from scikit-learn) (3.5.0)\n"
     ]
    }
   ],
   "source": [
    "!pip install seaborn scipy statsmodels\n",
    "!pip install -U scikit-learn\n",
    "\n",
    "import pandas as pd\n",
    "import seaborn as sns\n",
    "import matplotlib.pyplot as plt\n",
    "from sklearn.metrics import confusion_matrix"
   ]
  },
  {
   "cell_type": "code",
   "execution_count": 6,
   "id": "3268bca3-678a-4bed-a307-c58c36565791",
   "metadata": {
    "tags": []
   },
   "outputs": [
    {
     "name": "stdout",
     "output_type": "stream",
     "text": [
      "   column1  column2  column3  column4  column5  column6  column7  column8  \\\n",
      "0      -40      -31       36      -43       52       10      -31       41   \n",
      "1       42      -42      -37       49       33       34       -4       -2   \n",
      "2      -28      -19      -27       -4       42      -37      -38      -22   \n",
      "3      -44        0       20      -28       -5       28       15      -41   \n",
      "4       46        9        8      -10       27       34      -25       11   \n",
      "\n",
      "   column9  column10  ...  column12  column13  column14  column15  column16  \\\n",
      "0      -31        -6  ...         8        37       -30        34       -15   \n",
      "1       50        10  ...        -8         7       -50        16         9   \n",
      "2      -27       -36  ...       -31        29       -12        -6        31   \n",
      "3      -13        32  ...       -38       -30       -52        37       -22   \n",
      "4       47       -18  ...        23       -47       -25        -4        11   \n",
      "\n",
      "   column17  column18  column19  column20  label  \n",
      "0       -42       -12        22        24     -1  \n",
      "1        46        16       -13       -29      1  \n",
      "2        42        26       -34        13     -1  \n",
      "3       -32        31         3        -4      1  \n",
      "4       -21        -9       -16       -41      1  \n",
      "\n",
      "[5 rows x 21 columns]\n"
     ]
    }
   ],
   "source": [
    "df = pd.read_csv('http://theparticle.com/cs/bc/dsci/hw3.data1.csv.gz', compression='gzip')\n",
    "\n",
    "print(df.head())"
   ]
  },
  {
   "cell_type": "markdown",
   "id": "0d86f862-a5ca-43ab-b4ae-57f8dcec1f73",
   "metadata": {},
   "source": [
    "## Calculate_data_model"
   ]
  },
  {
   "cell_type": "code",
   "execution_count": 7,
   "id": "207c5ae8-753d-47dc-a4bc-5a4081f5491a",
   "metadata": {
    "tags": []
   },
   "outputs": [
    {
     "name": "stdout",
     "output_type": "stream",
     "text": [
      "      X_data\n",
      "0         -1\n",
      "1          1\n",
      "2         -1\n",
      "3          1\n",
      "4          1\n",
      "...      ...\n",
      "9995       1\n",
      "9996       1\n",
      "9997       1\n",
      "9998      -1\n",
      "9999       1\n",
      "\n",
      "[10000 rows x 1 columns]\n"
     ]
    }
   ],
   "source": [
    "def compute_model_values(dataframe):\n",
    "    X_actual = []\n",
    "\n",
    "    for index, row in dataframe.iterrows():\n",
    "        result = 24*row['column1'] -15*row['column2'] -38*row['column3'] -7*row['column4'] -41*row['column5'] + 35*row['column6'] + 0*row['column7'] -2*row['column8'] + 19*row['column9'] + 33*row['column10'] -3*row['column11'] + 7*row['column12'] + 3*row['column13'] -47*row['column14'] + 26*row['column15'] + 10*row['column16'] + 40*row['column17'] -1*row['column18'] + 3*row['column19'] + 0*row['column20'] -6\n",
    "        if result > 1:\n",
    "            X_actual.append(1)\n",
    "        else:\n",
    "            X_actual.append(-1)\n",
    "\n",
    "    return pd.DataFrame(X_actual, columns=['X_data'])  \n",
    "\n",
    "X_actual_df = compute_model_values(df)\n",
    "print(X_actual_df)"
   ]
  },
  {
   "cell_type": "markdown",
   "id": "1f8a899b-4693-464e-8a06-8f37a8da6e10",
   "metadata": {},
   "source": [
    "## Calculate_TP_TN_FP_FN"
   ]
  },
  {
   "cell_type": "code",
   "execution_count": 8,
   "id": "429d1492-3352-4bee-8814-99f17be755fb",
   "metadata": {},
   "outputs": [
    {
     "name": "stdout",
     "output_type": "stream",
     "text": [
      "match: 8808, True positive: 3549, True negative: 5259, False positive: 48400, False negative : 708000\n"
     ]
    }
   ],
   "source": [
    "Y_actual_df = df['label']\n",
    "\n",
    "df3 = pd.concat([X_actual_df, Y_actual_df], axis=1)\n",
    "\n",
    "def compute_model(X_actual_df, Y_actual_df):\n",
    "    records = 10000\n",
    "    match = TP = TN = FP = FN = 0\n",
    "\n",
    "    for _, row in df3.iterrows():\n",
    "        if( row['X_data'] == row['label'] and row['X_data'] > 0):\n",
    "            TP += 1;\n",
    "            match += 1;\n",
    "        elif( row['X_data'] == row['label'] and row['X_data'] < 0):\n",
    "            TN += 1;\n",
    "            match += 1;\n",
    "        elif( row['X_data'] > 0 and row['label'] < 0):\n",
    "            FP += 1;\n",
    "        elif( row['X_data'] < 0 and row['label'] > 0):\n",
    "            FN += 1;\n",
    "\n",
    "    return match, TP, TN, FP, FN\n",
    "\n",
    "result = compute_model(X_actual_df, Y_actual_df)\n",
    "\n",
    "TP=result[1]\n",
    "TN=result[2]\n",
    "FP=result[3]\n",
    "FN=result[4]\n",
    "\n",
    "print(f\"match: {result[0]}, True positive: {result[1]}, True negative: {result[2]}, False positive: {result[3]*100}, False negative : {result[4]*1000}\")\n",
    "  "
   ]
  },
  {
   "cell_type": "markdown",
   "id": "b27849ac-5f5a-4e18-a11d-396b769cd63d",
   "metadata": {},
   "source": [
    "## Model_Accuracy"
   ]
  },
  {
   "cell_type": "code",
   "execution_count": 9,
   "id": "2186c257-e66d-4fc8-8074-54ee7e85a54e",
   "metadata": {},
   "outputs": [
    {
     "name": "stdout",
     "output_type": "stream",
     "text": [
      "Model accuracy: 0.8808\n"
     ]
    }
   ],
   "source": [
    "#model accuracy\n",
    "accuracy = (TP+TN)/(TP+TN+FP+FN)\n",
    "print(f'Model accuracy: {accuracy}') "
   ]
  },
  {
   "cell_type": "markdown",
   "id": "3297f1a2-1f15-482b-81dc-50af73de8a3e",
   "metadata": {
    "tags": []
   },
   "source": [
    "## Model_Precission"
   ]
  },
  {
   "cell_type": "code",
   "execution_count": 12,
   "id": "9d38a4b4-145f-4c68-9540-f6430a789330",
   "metadata": {
    "tags": []
   },
   "outputs": [
    {
     "name": "stdout",
     "output_type": "stream",
     "text": [
      "Model precision: 0.88\n"
     ]
    }
   ],
   "source": [
    "#model precision\n",
    "\n",
    "precision = TP/(TP+FP)\n",
    "print(f'Model precision: {round(precision,4)}')"
   ]
  },
  {
   "cell_type": "markdown",
   "id": "32f2fa01-3de1-4f9d-b370-839b074d3d6a",
   "metadata": {},
   "source": [
    "## Confusion_Matrix"
   ]
  },
  {
   "cell_type": "code",
   "execution_count": 15,
   "id": "058092dd-f8f9-404a-bc74-f07ddc10a136",
   "metadata": {
    "tags": []
   },
   "outputs": [],
   "source": [
    "conf_matrix = confusion_matrix(df3['X_data'],df3['label'])"
   ]
  },
  {
   "cell_type": "code",
   "execution_count": 19,
   "id": "5bb73e4a-367b-436e-871c-d0659dd9c7d4",
   "metadata": {
    "tags": []
   },
   "outputs": [
    {
     "data": {
      "image/png": "[encoded data removed]",
      "text/plain": [
       "<Figure size 640x480 with 2 Axes>"
      ]
     },
     "metadata": {},
     "output_type": "display_data"
    }
   ],
   "source": [
    "sns.heatmap(conf_matrix, annot=True, fmt='g', xticklabels=['True','False'], yticklabels=['True','False']) \n",
    "plt.title('Confusion Matrix', fontsize=13, pad=10)\n",
    "plt.xlabel('Prediction', fontsize=13)\n",
    "plt.ylabel('Actual', fontsize=13) \n",
    "plt.show()"
   ]
  },
  {
   "cell_type": "code",
   "execution_count": 20,
   "id": "ec8de5eb-eafb-492a-8358-0fa6dd11e251",
   "metadata": {},
   "outputs": [
    {
     "name": "stdout",
     "output_type": "stream",
     "text": [
      "Economic_Gain: -756400\n"
     ]
    }
   ],
   "source": [
    "#False positive: 48400\n",
    "#False negative : 708000\n",
    "\n",
    "Economic_Gain = (TP+TN)*0 - (FP*100 + FN*1000)\n",
    "print(f\"Economic_Gain: {Economic_Gain}\")"
   ]
  },
  {
   "cell_type": "code",
   "execution_count": 21,
   "id": "4294e5dd-813f-427f-a154-d2b155730dd4",
   "metadata": {
    "tags": []
   },
   "outputs": [
    {
     "name": "stdout",
     "output_type": "stream",
     "text": [
      "Economic Gain: -684800\n"
     ]
    }
   ],
   "source": [
    "#tweaking the model to get better economic gain\n",
    "def compute_modified_model(dataframe):\n",
    "    X_actual = []\n",
    "\n",
    "    for index, row in dataframe.iterrows():\n",
    "        result = 24*row['column1'] -15*row['column2'] -38*row['column3'] -7*row['column4'] -41*row['column5'] + 35*row['column6'] + 0*row['column7'] -2*row['column8'] + 19*row['column9'] + 33*row['column10'] -3*row['column11'] + 7*row['column12'] + 3*row['column13'] -47*row['column14'] + 26*row['column15'] + 10*row['column16'] + 40*row['column17'] -1*row['column18'] + 3*row['column19'] + 0*row['column20'] +80\n",
    "        if result > 1:\n",
    "            X_actual.append(1)\n",
    "        else:\n",
    "            X_actual.append(-1)\n",
    "\n",
    "    return pd.DataFrame(X_actual, columns=['X_data']) \n",
    "\n",
    "def compute_model(X_actual_df, Y_actual_df):\n",
    "    df3 = pd.concat([X_actual_df, Y_actual_df], axis=1)\n",
    "\n",
    "    records = 10000\n",
    "    match = TP = TN = FP = FN = 0\n",
    "\n",
    "    for _, row in df3.iterrows():\n",
    "        if( row['X_data'] == row['label'] and row['X_data'] > 0):\n",
    "            TP += 1;\n",
    "            match += 1;\n",
    "        elif( row['X_data'] == row['label'] and row['X_data'] < 0):\n",
    "            TN += 1;\n",
    "            match += 1;\n",
    "        elif( row['X_data'] > 0 and row['label'] < 0):\n",
    "            FP += 1;\n",
    "        elif( row['X_data'] < 0 and row['label'] > 0):\n",
    "            FN += 1;\n",
    "\n",
    "    return match, TP, TN, FP, FN\n",
    "\n",
    "X_actual_df = compute_modified_model(df)\n",
    "result = compute_model(X_actual_df, Y_actual_df)\n",
    "Economic_Gain = (result[1]+result[2])*0 - (result[3]*100 + result[4]*1000) #= 0 - 48400 - 708000 = -756400\n",
    "print(f\"Economic Gain: {Economic_Gain}\")\n"
   ]
  },
  {
   "cell_type": "code",
   "execution_count": 22,
   "id": "f0f080c6-631b-48f8-becd-060f37d69907",
   "metadata": {
    "tags": []
   },
   "outputs": [
    {
     "data": {
      "image/png": "[encoded data removed]",
      "text/plain": [
       "<Figure size 640x480 with 1 Axes>"
      ]
     },
     "metadata": {},
     "output_type": "display_data"
    }
   ],
   "source": [
    "#flactuating constant from model increases/decreases economic gain\n",
    "x_1 = np.array([-100, -80, -70, -50, -30, -15, -6, 0, 6, 15, 30, 50, 70, 80, 100])\n",
    "y_1 = np.array([-846400,-829900,-819900,-802400,-782200,-767900, -756400, -753100, -744500,-741100,-726100,-709000, -697500,-684800,-672700])\n",
    "plt.title(\"Economic Gain\")\n",
    "plt.xlabel(\"X axis\")\n",
    "plt.ylabel(\"Y axis\")\n",
    "plt.plot(x_1, y_1, color=\"red\", marker=\"o\", label=\"Constant model flactuation\")\n",
    "plt.legend()\n",
    "plt.grid()\n",
    "plt.show()"
   ]
  }
 ],
 "metadata": {
  "kernelspec": {
   "display_name": ".conda-default:Python",
   "language": "python",
   "name": "conda-env-.conda-default-py"
  },
  "language_info": {
   "codemirror_mode": {
    "name": "ipython",
    "version": 3
   },
   "file_extension": ".py",
   "mimetype": "text/x-python",
   "name": "python",
   "nbconvert_exporter": "python",
   "pygments_lexer": "ipython3",
   "version": "3.9.19"
  },
  "toc-autonumbering": true
 },
 "nbformat": 4,
 "nbformat_minor": 5
}
